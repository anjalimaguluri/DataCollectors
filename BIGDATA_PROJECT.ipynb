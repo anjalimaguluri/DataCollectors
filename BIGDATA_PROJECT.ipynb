{
 "cells": [
  {
   "cell_type": "code",
   "execution_count": 15,
   "id": "435cde57-7336-4069-a73f-7e2ce544d5a2",
   "metadata": {},
   "outputs": [],
   "source": [
    "from pyspark.sql import SparkSession\n",
    "spark = SparkSession.builder.getOrCreate()"
   ]
  },
  {
   "cell_type": "code",
   "execution_count": 16,
   "id": "3d41e28b-f7e1-401c-a442-daa5f746ab18",
   "metadata": {},
   "outputs": [],
   "source": [
    "spark = SparkSession.builder \\\n",
    "    .appName(\"Top Performing States for Machines Sales\") \\\n",
    "    .getOrCreate()"
   ]
  },
  {
   "cell_type": "code",
   "execution_count": 17,
   "id": "e48e53de-e68e-464e-8339-5ead28af0900",
   "metadata": {},
   "outputs": [],
   "source": [
    "data = spark.read.csv(\"Sample - Superstore.csv\", header=True, inferSchema=True)\n",
    "\n",
    "# Register the DataFrame as a temporary view\n",
    "data.createOrReplaceTempView(\"SuperstoreSales\")"
   ]
  },
  {
   "cell_type": "code",
   "execution_count": 18,
   "id": "cdbe5639-fe81-445b-9b7c-e12c0d44e120",
   "metadata": {},
   "outputs": [
    {
     "name": "stdout",
     "output_type": "stream",
     "text": [
      "+-------+------------------+\n",
      "| Region|       Total_Sales|\n",
      "+-------+------------------+\n",
      "|   West| 713471.3445000004|\n",
      "|   East| 672194.0539999981|\n",
      "|Central| 497800.8728000007|\n",
      "|  South|388983.58500000037|\n",
      "+-------+------------------+\n",
      "\n"
     ]
    }
   ],
   "source": [
    "spark.sql('SELECT Region, SUM(Sales) AS Total_Sales FROM SuperstoreSales GROUP BY Region ORDER BY Total_Sales DESC').show()"
   ]
  },
  {
   "cell_type": "code",
   "execution_count": 20,
   "id": "8d99c73b-c643-4263-9413-2cc11b3c240a",
   "metadata": {},
   "outputs": [
    {
     "name": "stdout",
     "output_type": "stream",
     "text": [
      "+--------------------+------------------+\n",
      "|               State|        TotalSales|\n",
      "+--------------------+------------------+\n",
      "|            New York|           43183.5|\n",
      "|          California|29492.016000000003|\n",
      "|             Florida|24573.940000000002|\n",
      "|               Texas|19546.224000000002|\n",
      "|      North Carolina|         12620.655|\n",
      "|          New Jersey|           9899.85|\n",
      "|                Ohio| 8978.238000000001|\n",
      "|            Virginia|           8959.92|\n",
      "|          Washington| 6066.152000000001|\n",
      "|            Illinois|3756.3050000000003|\n",
      "|            Michigan|          3410.955|\n",
      "|            Colorado|3313.6890000000003|\n",
      "|            Kentucky|            3080.0|\n",
      "|             Alabama|            3040.0|\n",
      "|              Nevada|            2396.4|\n",
      "|        Pennsylvania|          2133.717|\n",
      "|District of Columbia|           1379.92|\n",
      "|             Arizona| 965.9490000000001|\n",
      "|           Tennessee|           740.475|\n",
      "|           Louisiana|            479.97|\n",
      "+--------------------+------------------+\n",
      "only showing top 20 rows\n",
      "\n"
     ]
    }
   ],
   "source": [
    "spark.sql(\"SELECT State, SUM(Sales) AS TotalSales FROM SuperstoreSales WHERE Category = 'Technology' AND `Sub-Category` = 'Machines' GROUP BY State ORDER BY TotalSales DESC\").show()\n",
    "\n",
    "\n",
    "# Execute the SQL query\n",
    "#top_states_df = spark.sql(top_states_query)\n",
    "\n",
    "# Show the top-performing states\n",
    "#top_states_df.show())"
   ]
  },
  {
   "cell_type": "code",
   "execution_count": 21,
   "id": "0577dac1-bea8-4599-9531-98b46033c141",
   "metadata": {},
   "outputs": [
    {
     "name": "stdout",
     "output_type": "stream",
     "text": [
      "+-------+------------------+\n",
      "| Region|    Average_Profit|\n",
      "+-------+------------------+\n",
      "|   West|33.500999531689054|\n",
      "|   East| 32.16399462780904|\n",
      "|  South|28.796506790123484|\n",
      "|Central|17.283901420576836|\n",
      "+-------+------------------+\n",
      "\n"
     ]
    }
   ],
   "source": [
    "spark.sql('SELECT Region, AVG(Profit) AS Average_Profit FROM SuperstoreSales GROUP BY Region ORDER BY Average_Profit DESC').show()"
   ]
  },
  {
   "cell_type": "code",
   "execution_count": 22,
   "id": "7d333a1c-6049-4e3c-8206-a41e4faa020e",
   "metadata": {},
   "outputs": [
    {
     "name": "stdout",
     "output_type": "stream",
     "text": [
      "+----------+------------------+\n",
      "|     State|       Total_Sales|\n",
      "+----------+------------------+\n",
      "|  Illinois|  79009.2869999999|\n",
      "|  Missouri|          21557.91|\n",
      "|New Jersey| 34600.57199999999|\n",
      "| Louisiana| 9217.029999999999|\n",
      "| Wisconsin|32091.890000000018|\n",
      "+----------+------------------+\n",
      "\n"
     ]
    }
   ],
   "source": [
    "spark.sql(\"\"\"\n",
    "    SELECT State, SUM(Sales) AS Total_Sales \n",
    "    FROM SuperstoreSales \n",
    "    WHERE State IN ('Illinois', 'Louisiana', 'Missouri', 'New Jersey', 'Wisconsin') \n",
    "    GROUP BY State\n",
    "\"\"\").show()\n"
   ]
  },
  {
   "cell_type": "code",
   "execution_count": 23,
   "id": "a7d12407-7af9-4338-a298-8e4a06d62370",
   "metadata": {},
   "outputs": [
    {
     "name": "stdout",
     "output_type": "stream",
     "text": [
      "+-----------+------------------+\n",
      "|    Segment|     TotalQuantity|\n",
      "+-----------+------------------+\n",
      "|   Consumer|27995.006999999983|\n",
      "|  Corporate| 19647.90100000001|\n",
      "|Home Office|10491.454000000002|\n",
      "+-----------+------------------+\n",
      "\n"
     ]
    }
   ],
   "source": [
    "spark.sql('SELECT Segment, SUM(Quantity) AS TotalQuantity FROM SuperstoreSales GROUP BY Segment ORDER BY TotalQuantity DESC').show()\n"
   ]
  },
  {
   "cell_type": "code",
   "execution_count": 24,
   "id": "6889c8e1-bc65-49ca-8d55-5e6646cfab84",
   "metadata": {},
   "outputs": [
    {
     "name": "stdout",
     "output_type": "stream",
     "text": [
      "+---------------+------------------+\n",
      "|       Category|    Total_Discount|\n",
      "+---------------+------------------+\n",
      "|Office Supplies| 2366.694000000008|\n",
      "|      Furniture| 505.6899999999982|\n",
      "|     Technology|278.19999999999504|\n",
      "+---------------+------------------+\n",
      "\n"
     ]
    }
   ],
   "source": [
    "spark.sql('SELECT Category, SUM(Discount) AS Total_Discount FROM SuperstoreSales GROUP BY Category ORDER BY Total_Discount DESC').show()\n",
    "\n"
   ]
  },
  {
   "cell_type": "code",
   "execution_count": 26,
   "id": "fca95d75-b2f9-4aa2-8ebc-f0dcd6dad1bc",
   "metadata": {},
   "outputs": [
    {
     "name": "stdout",
     "output_type": "stream",
     "text": [
      "+--------------+------------------+\n",
      "|     Ship Mode|       Total_Sales|\n",
      "+--------------+------------------+\n",
      "|Standard Class|1342260.1939999827|\n",
      "|  Second Class|       453341.8504|\n",
      "|   First Class|       349494.8469|\n",
      "|      Same Day|127352.96500000001|\n",
      "+--------------+------------------+\n",
      "\n"
     ]
    }
   ],
   "source": [
    "spark.sql('SELECT `Ship Mode`, SUM(Sales) AS Total_Sales FROM SuperstoreSales GROUP BY `Ship Mode` ORDER BY Total_Sales DESC').show()\n"
   ]
  },
  {
   "cell_type": "code",
   "execution_count": 27,
   "id": "9f698b55-d9a3-4fa2-937c-a20cf92e7608",
   "metadata": {},
   "outputs": [
    {
     "name": "stdout",
     "output_type": "stream",
     "text": [
      "+---------------+-----------------+\n",
      "|       Category|       TotalSales|\n",
      "+---------------+-----------------+\n",
      "|Office Supplies|703502.9280000031|\n",
      "|      Furniture|733046.8612999996|\n",
      "|     Technology|835900.0669999964|\n",
      "+---------------+-----------------+\n",
      "\n"
     ]
    }
   ],
   "source": [
    "spark.sql('SELECT Category,SUM(Sales) AS TotalSales FROM SuperstoreSales GROUP BY Category ORDER BY TotalSales ASC').show()\n"
   ]
  },
  {
   "cell_type": "code",
   "execution_count": null,
   "id": "ae314e37-30ab-41b8-ae7b-26b3920e4b7d",
   "metadata": {},
   "outputs": [],
   "source": []
  }
 ],
 "metadata": {
  "kernelspec": {
   "display_name": "Python 3 (ipykernel)",
   "language": "python",
   "name": "python3"
  },
  "language_info": {
   "codemirror_mode": {
    "name": "ipython",
    "version": 3
   },
   "file_extension": ".py",
   "mimetype": "text/x-python",
   "name": "python",
   "nbconvert_exporter": "python",
   "pygments_lexer": "ipython3",
   "version": "3.11.0"
  }
 },
 "nbformat": 4,
 "nbformat_minor": 5
}
